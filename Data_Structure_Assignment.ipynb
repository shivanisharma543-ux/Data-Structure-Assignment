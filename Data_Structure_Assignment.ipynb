{
  "nbformat": 4,
  "nbformat_minor": 0,
  "metadata": {
    "colab": {
      "provenance": [],
      "authorship_tag": "ABX9TyOYAQDGdpQJSKvOBaAqbNuK",
      "include_colab_link": true
    },
    "kernelspec": {
      "name": "python3",
      "display_name": "Python 3"
    },
    "language_info": {
      "name": "python"
    }
  },
  "cells": [
    {
      "cell_type": "markdown",
      "metadata": {
        "id": "view-in-github",
        "colab_type": "text"
      },
      "source": [
        "<a href=\"https://colab.research.google.com/github/shivanisharma543-ux/Data-Structure-Assignment/blob/main/Data_Structure_Assignment.ipynb\" target=\"_parent\"><img src=\"https://colab.research.google.com/assets/colab-badge.svg\" alt=\"Open In Colab\"/></a>"
      ]
    },
    {
      "cell_type": "code",
      "execution_count": null,
      "metadata": {
        "id": "AdhALmqydiZH"
      },
      "outputs": [],
      "source": [
        "'''\n",
        "1. What are data structures, and why are they important?\n",
        "  Data structures are specialized formats for organizing, storing, and accessing collections of data.\n",
        "  They provide efficient ways to manage information based on its characteristics and intended use.\n",
        "  they are like containers that hold your data and determine how you can interact with it.\n",
        "  Different containers are better suited for different types of items.\n",
        "Importance\n",
        "  Choosing the right data structure significantly impacts the efficiency and performance of your program.\n",
        "  Well-chosen data structures can:Simplify data manipulation (adding, removing, modifying elements)\n",
        "  Optimize searching and sorting operations\n",
        "  Conserve memory usage\n",
        "'''"
      ]
    },
    {
      "cell_type": "code",
      "source": [
        "'''\n",
        "2.  Explain the difference between mutable and immutable data types with examples?\n",
        "     Mutable data types:\n",
        "      Mutable data type is one whose value or content can be change, edited or modified after its creation, without changing the memory location.\n",
        "      E.g: Lists, Dictionary, set etc.\n",
        "\n",
        "    Immutable data types:\n",
        "      An immutable data type is one whose content or values cannot be changes, edited or modified after its creation.\n",
        "      E.g: Tuple, string, Bool etc.\n",
        "'''"
      ],
      "metadata": {
        "id": "fYtIrBcBeZsi"
      },
      "execution_count": null,
      "outputs": []
    },
    {
      "cell_type": "code",
      "source": [
        "'''\n",
        "3. What are the main differences between lists and tuples in Python?\n",
        "  Lists:\n",
        "    Lists are mutable data type.\n",
        "    They are represented in Square brackets([]).\n",
        "    They are slower in performance and uses high memory.\n",
        "    They cannot become a Dictionary key as they are non-hashable\n",
        "  Tuple:\n",
        "    Tuple are immutable data type.\n",
        "    They are represented in parantheses().\n",
        "    They are faster in performance and uses less memory.\n",
        "    They can act as a key in Dictionary.\n",
        "'''\n"
      ],
      "metadata": {
        "id": "QT5WZAm3fiV6"
      },
      "execution_count": null,
      "outputs": []
    },
    {
      "cell_type": "code",
      "source": [
        "'''\n",
        "4.  Describe how dictionaries store data?\n",
        "      Dictionaries store data in a key-value structure, where key act as an index.\n",
        "      They are hashable means the keys should be immutable.\n",
        "      they are represent in curly brackets({}).\n",
        "      E.g:{'Name':'Shivani', 'contact':1234}\n",
        "'''"
      ],
      "metadata": {
        "id": "JDHC8rf4iz-F"
      },
      "execution_count": null,
      "outputs": []
    },
    {
      "cell_type": "code",
      "source": [
        "'''\n",
        "5. Why might you use a set instead of a list in Python?\n",
        "    Sets are preffered over list when you need to obtain unique items.\n",
        "    E.g: In case of grocery list in a house made by two people consisting few of the same items in that case set is useful to avoid duplication.\n",
        "'''\n",
        "\n",
        "\n"
      ],
      "metadata": {
        "id": "AnHthETulIBI"
      },
      "execution_count": null,
      "outputs": []
    },
    {
      "cell_type": "code",
      "source": [
        "'''\n",
        "6. What is a string in Python, and how is it different from a list?\n",
        "    String: It ia sequence of characters enclosed in single or double quotes.\n",
        "    It differs from list as it is immutable and only stores one type of data while the lists can store varied data types.\n",
        "'''\n"
      ],
      "metadata": {
        "id": "aiIMSRv0viOP"
      },
      "execution_count": null,
      "outputs": []
    },
    {
      "cell_type": "code",
      "source": [
        "'''\n",
        "7. How do tuples ensure data integrity in Python?\n",
        "    Tuples ensure data integrity by being immutable form of data structure. it prevents modification of data.\n",
        "'''\n",
        "\n",
        "\n"
      ],
      "metadata": {
        "id": "htv2OIKAwc8w"
      },
      "execution_count": null,
      "outputs": []
    },
    {
      "cell_type": "code",
      "source": [
        "'''\n",
        "8. What is a hash table, and how does it relate to dictionaries in Python?\n",
        "    It is a form of data structure which stores data in key-value pairs. Dictionaries are implemented using Hash table.\n",
        "'''\n",
        "\n"
      ],
      "metadata": {
        "id": "ahqdNfAmxMt4"
      },
      "execution_count": null,
      "outputs": []
    },
    {
      "cell_type": "code",
      "source": [
        "'''\n",
        "9. Can lists contain different data types in Python?\n",
        "    Yes, lists can store heterogenous data types that includes integers, float, string, complex, boolean and other lists.\n",
        "'''"
      ],
      "metadata": {
        "id": "XY9qiA0uLnUZ"
      },
      "execution_count": null,
      "outputs": []
    },
    {
      "cell_type": "code",
      "source": [
        "'''\n",
        "10.  Explain why strings are immutable in Python?\n",
        "      Strings are immutable because they dont allow any item assignment or changes once created.\n",
        "      This ensure safety of data and performance optimization.\n",
        "      strings are often used as dictionary key as because of their immutablility they are hashable.\n",
        "'''"
      ],
      "metadata": {
        "id": "Hf8vHSVbMcfs"
      },
      "execution_count": null,
      "outputs": []
    },
    {
      "cell_type": "code",
      "source": [
        "'''\n",
        "11. What advantages do dictionaries offer over lists for certain tasks?\n",
        "    Dictionaries store data in key-value pair which makes it clearer and more readable.\n",
        "    Dictionaries also make the data look up or data access easier and faster as the keys act as an index.\n",
        "    One doesn't need to remember index positions.\n",
        "'''\n"
      ],
      "metadata": {
        "id": "ip-5FavrPHTy"
      },
      "execution_count": null,
      "outputs": []
    },
    {
      "cell_type": "code",
      "source": [
        "'''\n",
        "12.  Describe a scenario where using a tuple would be preferable over a list?\n",
        "      Tuple is used where one doesn't want the data to be modified.\n",
        "      For example: for storing employee info of the company, PAN card numbers, bank account number etc.\n",
        "'''\n"
      ],
      "metadata": {
        "id": "DurnXd67QdW_"
      },
      "execution_count": null,
      "outputs": []
    },
    {
      "cell_type": "code",
      "source": [
        "'''\n",
        "13.  How do sets handle duplicate values in Python?\n",
        "      Sets doesn't allow data duplication, stores only unique elements or items.\n",
        "'''"
      ],
      "metadata": {
        "id": "zzogMzC8SIv5"
      },
      "execution_count": null,
      "outputs": []
    },
    {
      "cell_type": "code",
      "source": [
        "'''\n",
        "14. How does the “in” keyword work differently for lists and dictionaries?\n",
        "      In Lists 'in' keyword checks for the presence of a particular item or entity and returs output as true or false.\n",
        "      In dictionary 'in' keyword is used to get the key-value pair data.\n",
        "'''\n"
      ],
      "metadata": {
        "id": "ofb-0e6zSdjm"
      },
      "execution_count": null,
      "outputs": []
    },
    {
      "cell_type": "code",
      "source": [
        "'''\n",
        "15. Can you modify the elements of a tuple? Explain why or why not?\n",
        "    Tuples are immutable doen't allow item assignment.\n",
        "    However, some operations can be performed on a tuple like slicing, multiplication of tuple, iteration and reversing a tuple, but item assignment id not allowed.\n",
        "    Further if mutable objects like a list is stored inside a tuple then that can be modified.\n",
        "'''"
      ],
      "metadata": {
        "id": "hDmJ0HYcUhFm"
      },
      "execution_count": null,
      "outputs": []
    },
    {
      "cell_type": "code",
      "source": [
        "'''\n",
        "16. What is a nested dictionary, and give an example of its use case?\n",
        "      Nested dictionary is the dictionaries inside a dictionary.\n",
        "       It has multiple uses like :creating employee details of a company along with IDs,\n",
        "       Storing names along with subject wise marks of students in a class,\n",
        "       Creating restraunt menu with dishes, prices and description.\n",
        "'''\n"
      ],
      "metadata": {
        "id": "RZ9LsH2RWtXs"
      },
      "execution_count": null,
      "outputs": []
    },
    {
      "cell_type": "code",
      "source": [
        "'''\n",
        "17. Describe the time complexity of accessing elements in a dictionary?\n",
        "    Dictionaries provide a fast and efficient way to store and retrieve or access datausing key value pair, where keys are used as index.\n",
        "    The time complexity of retrieving a value by its key in dictionary is O(1).\n",
        "'''\n"
      ],
      "metadata": {
        "id": "iugOFt7zascO"
      },
      "execution_count": null,
      "outputs": []
    },
    {
      "cell_type": "code",
      "source": [
        "'''\n",
        "18.  In what situations are lists preferred over dictionaries?\n",
        "      Lists are preffered over dictionaries when order of items is important like in sorted collection, in a sequence of eventsor when one need to access elements by their numerical positions.\n",
        "'''"
      ],
      "metadata": {
        "id": "IE7sf2LNavwW"
      },
      "execution_count": null,
      "outputs": []
    },
    {
      "cell_type": "code",
      "source": [
        "'''\n",
        "19. Why are dictionaries considered unordered, and how does that affect data retrieval?\n",
        "    Dictionaries earlierfailed to preserve the order in which key-value pairs were added.\n",
        "    However from python 3.7 dictionaroy retain the order of insertion, means items will appear in the order they were inserted.\n",
        "    Dictionaries still not support index based data access.\n",
        "    In dictionary access is based on keys not position which allow for swift data access.\n",
        "'''\n"
      ],
      "metadata": {
        "id": "HNwryZ1rbsvq"
      },
      "execution_count": null,
      "outputs": []
    },
    {
      "cell_type": "code",
      "source": [
        "'''\n",
        "20.  Explain the difference between a list and a dictionary in terms of data retrieval.\n",
        "     In list data retrieval is based on integer based indexing.\n",
        "     Starting from 0 for the first element(left to right) and negative indexing starting from -1 for the last element (from right to left).\n",
        "     Retrieval time can be linear O(n).\n",
        "\n",
        "     In dictionary the elements are accesses using keys. The retrieval time is typically constanton average O(1), allowing fast look up.\n",
        "'''"
      ],
      "metadata": {
        "id": "9ayg6Lb8eBuf"
      },
      "execution_count": null,
      "outputs": []
    },
    {
      "cell_type": "code",
      "source": [
        "#1. Write a code to create a string with your name and print it?\n",
        "str1=\"Shivani Sharma\"\n",
        "print(str1)"
      ],
      "metadata": {
        "colab": {
          "base_uri": "https://localhost:8080/"
        },
        "id": "DmgO_dp2ksmo",
        "outputId": "59a982f7-3fa6-4397-a016-44d7cd19809f"
      },
      "execution_count": 1,
      "outputs": [
        {
          "output_type": "stream",
          "name": "stdout",
          "text": [
            "Shivani Sharma\n"
          ]
        }
      ]
    },
    {
      "cell_type": "code",
      "source": [
        "#2. Write a code to find the length of the string \"Hello World\"?\n",
        "str=\"Hello World\"\n",
        "len(str)"
      ],
      "metadata": {
        "colab": {
          "base_uri": "https://localhost:8080/"
        },
        "id": "P7XOA0GflRRo",
        "outputId": "4e08410d-1adb-4e4b-c000-6dab567fa327"
      },
      "execution_count": 2,
      "outputs": [
        {
          "output_type": "execute_result",
          "data": {
            "text/plain": [
              "11"
            ]
          },
          "metadata": {},
          "execution_count": 2
        }
      ]
    },
    {
      "cell_type": "code",
      "source": [
        "#3. Write a code to slice the first 3 characters from the string \"Python Programming\"?\n",
        "str=\"Python Programming\"\n",
        "str[0:3:1]\n"
      ],
      "metadata": {
        "colab": {
          "base_uri": "https://localhost:8080/",
          "height": 35
        },
        "id": "NlGNVB9wlm26",
        "outputId": "ec7f8062-cede-4453-cabc-5964154b95a4"
      },
      "execution_count": 6,
      "outputs": [
        {
          "output_type": "execute_result",
          "data": {
            "text/plain": [
              "'Pyt'"
            ],
            "application/vnd.google.colaboratory.intrinsic+json": {
              "type": "string"
            }
          },
          "metadata": {},
          "execution_count": 6
        }
      ]
    },
    {
      "cell_type": "code",
      "source": [
        "#4. Write a code to convert the string \"hello\" to uppercase?\n",
        "Text=\"hello\"\n",
        "Text.upper()"
      ],
      "metadata": {
        "colab": {
          "base_uri": "https://localhost:8080/",
          "height": 35
        },
        "id": "KZ1OS81Gmx7d",
        "outputId": "619b5c38-95d0-4dd8-a2b5-5858a90cd48f"
      },
      "execution_count": 7,
      "outputs": [
        {
          "output_type": "execute_result",
          "data": {
            "text/plain": [
              "'HELLO'"
            ],
            "application/vnd.google.colaboratory.intrinsic+json": {
              "type": "string"
            }
          },
          "metadata": {},
          "execution_count": 7
        }
      ]
    },
    {
      "cell_type": "code",
      "source": [
        "#5. Write a code to replace the word \"apple\" with \"orange\" in the string \"I like apple\"?\n",
        "Str=\"I like apple\"\n",
        "Str.replace('apple', 'orange')\n"
      ],
      "metadata": {
        "colab": {
          "base_uri": "https://localhost:8080/",
          "height": 35
        },
        "id": "p9J3D25snTaa",
        "outputId": "28a3f197-d6a6-4f9d-ab6e-0e8b0c50fcb4"
      },
      "execution_count": 10,
      "outputs": [
        {
          "output_type": "execute_result",
          "data": {
            "text/plain": [
              "'I like orange'"
            ],
            "application/vnd.google.colaboratory.intrinsic+json": {
              "type": "string"
            }
          },
          "metadata": {},
          "execution_count": 10
        }
      ]
    },
    {
      "cell_type": "code",
      "source": [
        "#6. Write a code to create a list with numbers 1 to 5 and print it?\n",
        "list(range(1,6))\n"
      ],
      "metadata": {
        "colab": {
          "base_uri": "https://localhost:8080/"
        },
        "id": "nt-isa4Xn4Rl",
        "outputId": "1575aa67-21a7-45d0-90b2-bb9a7d320ac0"
      },
      "execution_count": 14,
      "outputs": [
        {
          "output_type": "execute_result",
          "data": {
            "text/plain": [
              "[1, 2, 3, 4, 5]"
            ]
          },
          "metadata": {},
          "execution_count": 14
        }
      ]
    },
    {
      "cell_type": "code",
      "source": [
        "#7. Write a code to append the number 10 to the list [1, 2, 3, 4]?\n",
        "list1=[1,2,3,4]\n",
        "list1.append(5)\n",
        "list1"
      ],
      "metadata": {
        "colab": {
          "base_uri": "https://localhost:8080/"
        },
        "id": "y8Naw2Wto6VL",
        "outputId": "7a24bb45-236e-474f-eb9b-47a407460cfc"
      },
      "execution_count": 15,
      "outputs": [
        {
          "output_type": "execute_result",
          "data": {
            "text/plain": [
              "[1, 2, 3, 4, 5]"
            ]
          },
          "metadata": {},
          "execution_count": 15
        }
      ]
    },
    {
      "cell_type": "code",
      "source": [
        "#8. Write a code to remove the number 3 from the list [1, 2, 3, 4, 5]?\n",
        "list1=[1,2,3,4,5]\n",
        "list1.remove(3)\n",
        "list1"
      ],
      "metadata": {
        "colab": {
          "base_uri": "https://localhost:8080/"
        },
        "id": "G_nvIdCWpKYL",
        "outputId": "fbc6e254-1797-4b51-8bd9-01cd2f039304"
      },
      "execution_count": 16,
      "outputs": [
        {
          "output_type": "execute_result",
          "data": {
            "text/plain": [
              "[1, 2, 4, 5]"
            ]
          },
          "metadata": {},
          "execution_count": 16
        }
      ]
    },
    {
      "cell_type": "code",
      "source": [
        "#9. Write a code to access the second element in the list ['a', 'b', 'c', 'd']?\n",
        "lis=['a','b','c','d']\n",
        "lis[1]\n"
      ],
      "metadata": {
        "colab": {
          "base_uri": "https://localhost:8080/",
          "height": 35
        },
        "id": "nOhVuoiopWEU",
        "outputId": "a074ea92-5527-4298-9d70-fb173015fa0c"
      },
      "execution_count": 17,
      "outputs": [
        {
          "output_type": "execute_result",
          "data": {
            "text/plain": [
              "'b'"
            ],
            "application/vnd.google.colaboratory.intrinsic+json": {
              "type": "string"
            }
          },
          "metadata": {},
          "execution_count": 17
        }
      ]
    },
    {
      "cell_type": "code",
      "source": [
        "#10. Write a code to reverse the list [10, 20, 30, 40, 50].\n",
        "lis=[10,20,30,40,50]\n",
        "lis[::-1]"
      ],
      "metadata": {
        "colab": {
          "base_uri": "https://localhost:8080/"
        },
        "id": "rMUclSjGqBdy",
        "outputId": "018fdda2-60b8-4136-b01a-d73c32c9cafe"
      },
      "execution_count": 18,
      "outputs": [
        {
          "output_type": "execute_result",
          "data": {
            "text/plain": [
              "[50, 40, 30, 20, 10]"
            ]
          },
          "metadata": {},
          "execution_count": 18
        }
      ]
    },
    {
      "cell_type": "code",
      "source": [
        "#11.  Write a code to create a tuple with the elements 100, 200, 300 and print it?\n",
        "my_tuple=(100,200,300)\n",
        "print(my_tuple)"
      ],
      "metadata": {
        "colab": {
          "base_uri": "https://localhost:8080/"
        },
        "id": "F4JU1oqDqN-c",
        "outputId": "3f0b7197-ac26-4fbf-b0e7-490dfb414ad9"
      },
      "execution_count": 22,
      "outputs": [
        {
          "output_type": "stream",
          "name": "stdout",
          "text": [
            "(100, 200, 300)\n"
          ]
        }
      ]
    },
    {
      "cell_type": "code",
      "source": [
        "#12. Write a code to access the second-to-last element of the tuple ('red', 'green', 'blue', 'yellow').\n",
        "T=('red', 'green', 'blue', 'yellow')\n",
        "T[1:4]"
      ],
      "metadata": {
        "colab": {
          "base_uri": "https://localhost:8080/"
        },
        "id": "TZdq-JlBr-QL",
        "outputId": "96cb69b3-7664-4f89-f93d-c775549d1bdb"
      },
      "execution_count": 23,
      "outputs": [
        {
          "output_type": "execute_result",
          "data": {
            "text/plain": [
              "('green', 'blue', 'yellow')"
            ]
          },
          "metadata": {},
          "execution_count": 23
        }
      ]
    },
    {
      "cell_type": "code",
      "source": [
        "#13. Write a code to find the minimum number in the tuple (10, 20, 5, 15).\n",
        "t=(10, 20, 5, 15)\n",
        "min(t)"
      ],
      "metadata": {
        "colab": {
          "base_uri": "https://localhost:8080/"
        },
        "id": "KnAZNer4s68k",
        "outputId": "6e5bb547-fdc0-4dac-9c91-71aa21e248c9"
      },
      "execution_count": 25,
      "outputs": [
        {
          "output_type": "execute_result",
          "data": {
            "text/plain": [
              "5"
            ]
          },
          "metadata": {},
          "execution_count": 25
        }
      ]
    },
    {
      "cell_type": "code",
      "source": [
        "#14.  Write a code to find the index of the element \"cat\" in the tuple ('dog', 'cat', 'rabbit').\n",
        "t=('dog', 'cat', 'rabbit')\n",
        "t.index('cat')"
      ],
      "metadata": {
        "colab": {
          "base_uri": "https://localhost:8080/"
        },
        "id": "Fze2-_QrtKVP",
        "outputId": "faa8795a-5402-4b57-98e0-7fc9683e1c54"
      },
      "execution_count": 26,
      "outputs": [
        {
          "output_type": "execute_result",
          "data": {
            "text/plain": [
              "1"
            ]
          },
          "metadata": {},
          "execution_count": 26
        }
      ]
    },
    {
      "cell_type": "code",
      "source": [
        "#15.  Write a code to create a tuple containing three different fruits and check if \"kiwi\" is in it.\n",
        "Fruits=('apple','orange','peach')\n",
        "'kiwi' in Fruits"
      ],
      "metadata": {
        "colab": {
          "base_uri": "https://localhost:8080/"
        },
        "id": "fDWabL76tUYT",
        "outputId": "33e05cc7-fd48-4373-e9f8-cd0bfac9c2e3"
      },
      "execution_count": 27,
      "outputs": [
        {
          "output_type": "execute_result",
          "data": {
            "text/plain": [
              "False"
            ]
          },
          "metadata": {},
          "execution_count": 27
        }
      ]
    },
    {
      "cell_type": "code",
      "source": [
        "#16.  Write a code to create a set with the elements 'a', 'b', 'c' and print it.\n",
        "my_set={'a','b','c'}\n",
        "print(my_set)"
      ],
      "metadata": {
        "colab": {
          "base_uri": "https://localhost:8080/"
        },
        "id": "nGd533_MttOQ",
        "outputId": "fa1edf2d-3c65-4bf9-d3d7-3a6491683336"
      },
      "execution_count": 28,
      "outputs": [
        {
          "output_type": "stream",
          "name": "stdout",
          "text": [
            "{'b', 'a', 'c'}\n"
          ]
        }
      ]
    },
    {
      "cell_type": "code",
      "source": [
        "#17. Write a code to clear all elements from the set {1, 2, 3, 4, 5}.\n",
        "s={1, 2, 3, 4, 5}\n",
        "s.clear()\n",
        "s"
      ],
      "metadata": {
        "colab": {
          "base_uri": "https://localhost:8080/"
        },
        "id": "IrBPn1DWt7nl",
        "outputId": "d7ef0fbb-a257-415a-c125-2b08b7d41e1e"
      },
      "execution_count": 30,
      "outputs": [
        {
          "output_type": "execute_result",
          "data": {
            "text/plain": [
              "set()"
            ]
          },
          "metadata": {},
          "execution_count": 30
        }
      ]
    },
    {
      "cell_type": "code",
      "source": [
        "#18. Write a code to remove the element 4 from the set {1, 2, 3, 4}.\n",
        "s={1, 2, 3, 4}\n",
        "s.remove(4)\n",
        "s"
      ],
      "metadata": {
        "colab": {
          "base_uri": "https://localhost:8080/"
        },
        "id": "IBl_OCTAuWs1",
        "outputId": "29c5d32b-0480-47bc-a6a0-e3e794f5f73f"
      },
      "execution_count": 32,
      "outputs": [
        {
          "output_type": "execute_result",
          "data": {
            "text/plain": [
              "{1, 2, 3}"
            ]
          },
          "metadata": {},
          "execution_count": 32
        }
      ]
    },
    {
      "cell_type": "code",
      "source": [
        "#19. Write a code to find the union of two sets {1, 2, 3} and {3, 4, 5}\n",
        "s1={1, 2, 3}\n",
        "s2={3, 4, 5}\n",
        "s1|s2"
      ],
      "metadata": {
        "colab": {
          "base_uri": "https://localhost:8080/"
        },
        "id": "sKDRKUXzullE",
        "outputId": "e748ad09-38a6-4c1a-8954-0d70b5405c36"
      },
      "execution_count": 33,
      "outputs": [
        {
          "output_type": "execute_result",
          "data": {
            "text/plain": [
              "{1, 2, 3, 4, 5}"
            ]
          },
          "metadata": {},
          "execution_count": 33
        }
      ]
    },
    {
      "cell_type": "code",
      "source": [
        "#20.  Write a code to find the intersection of two sets {1, 2, 3} and {2, 3, 4}.\n",
        "s1={1, 2, 3}\n",
        "s2={2, 3, 4}\n",
        "s1 & s2"
      ],
      "metadata": {
        "colab": {
          "base_uri": "https://localhost:8080/"
        },
        "id": "UXFD1pwpu-me",
        "outputId": "be3100cd-4a29-406f-bbf7-4b41750335c3"
      },
      "execution_count": 34,
      "outputs": [
        {
          "output_type": "execute_result",
          "data": {
            "text/plain": [
              "{2, 3}"
            ]
          },
          "metadata": {},
          "execution_count": 34
        }
      ]
    },
    {
      "cell_type": "code",
      "source": [
        "#21. Write a code to create a dictionary with the keys \"name\", \"age\", and \"city\", and print it.\n",
        "My_Dict={'Name': 'Shivani Sharma', 'Age': 23, 'City': 'Jaisalmer'}\n",
        "My_Dict"
      ],
      "metadata": {
        "colab": {
          "base_uri": "https://localhost:8080/"
        },
        "id": "JNlVfOhivOM1",
        "outputId": "0e6581a4-8005-496a-d8c8-c6f524a8d5c5"
      },
      "execution_count": 35,
      "outputs": [
        {
          "output_type": "execute_result",
          "data": {
            "text/plain": [
              "{'Name': 'Shivani Sharma', 'Age': 23, 'City': 'Jaisalmer'}"
            ]
          },
          "metadata": {},
          "execution_count": 35
        }
      ]
    },
    {
      "cell_type": "code",
      "source": [
        "#22. Write a code to add a new key-value pair \"country\": \"USA\" to the dictionary {'name': 'John', 'age': 25}.\n",
        "d={'name': 'John', 'age': 25}\n",
        "d['country']='USA'\n",
        "d"
      ],
      "metadata": {
        "colab": {
          "base_uri": "https://localhost:8080/"
        },
        "id": "cGYcynwNvow4",
        "outputId": "f329e07d-effc-4fdb-c71b-4a4a7af6790f"
      },
      "execution_count": 36,
      "outputs": [
        {
          "output_type": "execute_result",
          "data": {
            "text/plain": [
              "{'name': 'John', 'age': 25, 'country': 'USA'}"
            ]
          },
          "metadata": {},
          "execution_count": 36
        }
      ]
    },
    {
      "cell_type": "code",
      "source": [
        "#23.  Write a code to access the value associated with the key \"name\" in the dictionary {'name': 'Alice', 'age': 30}.\n",
        "d={'name': 'Alice', 'age': 30}\n",
        "d['name']"
      ],
      "metadata": {
        "colab": {
          "base_uri": "https://localhost:8080/",
          "height": 35
        },
        "id": "ZSWrxxirwINV",
        "outputId": "812f194e-0451-42dd-db83-17924a85458f"
      },
      "execution_count": 37,
      "outputs": [
        {
          "output_type": "execute_result",
          "data": {
            "text/plain": [
              "'Alice'"
            ],
            "application/vnd.google.colaboratory.intrinsic+json": {
              "type": "string"
            }
          },
          "metadata": {},
          "execution_count": 37
        }
      ]
    },
    {
      "cell_type": "code",
      "source": [
        "#24. Write a code to remove the key \"age\" from the dictionary {'name': 'Bob', 'age': 22, 'city': 'New York'}.\n",
        "d={'name': 'Bob', 'age': 22, 'city': 'New York'}\n",
        "del d['age']\n",
        "d"
      ],
      "metadata": {
        "colab": {
          "base_uri": "https://localhost:8080/"
        },
        "id": "eXzzq9nFwhBJ",
        "outputId": "1f56f231-de60-4769-d068-72552f1d11d4"
      },
      "execution_count": 40,
      "outputs": [
        {
          "output_type": "execute_result",
          "data": {
            "text/plain": [
              "{'name': 'Bob', 'city': 'New York'}"
            ]
          },
          "metadata": {},
          "execution_count": 40
        }
      ]
    },
    {
      "cell_type": "code",
      "source": [
        "#25. Write a code to check if the key \"city\" exists in the dictionary {'name': 'Alice', 'city': 'Paris'}\n",
        "my_dict={'name': 'Alice', 'city': 'Paris'}\n",
        "if 'city' in my_dict:\n",
        "  print('Yes, it is present in dictionary')\n",
        "else:\n",
        "  print('Does not exist in dictiinary')"
      ],
      "metadata": {
        "colab": {
          "base_uri": "https://localhost:8080/"
        },
        "id": "-cxu51QfxGcH",
        "outputId": "d65bfee4-e9d0-487d-a5cb-c00a53da6b34"
      },
      "execution_count": 41,
      "outputs": [
        {
          "output_type": "stream",
          "name": "stdout",
          "text": [
            "Yes, it is present in dictionary\n"
          ]
        }
      ]
    },
    {
      "cell_type": "code",
      "source": [
        "#26. Write a code to create a list, a tuple, and a dictionary, and print them all.\n",
        "My_list=[1, 2, 'apple',2.6,True]\n",
        "My_list"
      ],
      "metadata": {
        "colab": {
          "base_uri": "https://localhost:8080/"
        },
        "id": "6GmnpNZ0yJgU",
        "outputId": "8912b9af-b190-4efc-c9c6-ca1792a53415"
      },
      "execution_count": 42,
      "outputs": [
        {
          "output_type": "execute_result",
          "data": {
            "text/plain": [
              "[1, 2, 'apple', 2.6, True]"
            ]
          },
          "metadata": {},
          "execution_count": 42
        }
      ]
    },
    {
      "cell_type": "code",
      "source": [
        "My_tuple=(1,2,[3,4],'apple')\n",
        "My_tuple"
      ],
      "metadata": {
        "colab": {
          "base_uri": "https://localhost:8080/"
        },
        "id": "BaTW5-oQyybP",
        "outputId": "4909d803-81de-4cb4-a0ad-3af19a2b97cc"
      },
      "execution_count": 43,
      "outputs": [
        {
          "output_type": "execute_result",
          "data": {
            "text/plain": [
              "(1, 2, [3, 4], 'apple')"
            ]
          },
          "metadata": {},
          "execution_count": 43
        }
      ]
    },
    {
      "cell_type": "code",
      "source": [
        "My_dict={'Adity': 50, 'Arun': 88, 'Kavita': 90, 'Sonia': 95}\n",
        "My_dict"
      ],
      "metadata": {
        "colab": {
          "base_uri": "https://localhost:8080/"
        },
        "id": "lSRPZr1Zy_Wt",
        "outputId": "60969f23-e10a-4b3d-bd5a-8563dfaba83b"
      },
      "execution_count": 44,
      "outputs": [
        {
          "output_type": "execute_result",
          "data": {
            "text/plain": [
              "{'Adity': 50, 'Arun': 88, 'Kavita': 90, 'Sonia': 95}"
            ]
          },
          "metadata": {},
          "execution_count": 44
        }
      ]
    },
    {
      "cell_type": "code",
      "source": [
        "#27. Write a code to create a list of 5 random numbers between 1 and 100, sort it in ascending order, and print the result.\n",
        "list1=[12,66,30,49,83]\n",
        "sorted(list1)"
      ],
      "metadata": {
        "colab": {
          "base_uri": "https://localhost:8080/"
        },
        "id": "rd5AcM1AzdlX",
        "outputId": "bf500ea8-ed80-48ec-a914-9f36640543da"
      },
      "execution_count": 45,
      "outputs": [
        {
          "output_type": "execute_result",
          "data": {
            "text/plain": [
              "[12, 30, 49, 66, 83]"
            ]
          },
          "metadata": {},
          "execution_count": 45
        }
      ]
    },
    {
      "cell_type": "code",
      "source": [
        "#28. Write a code to create a list with strings and print the element at the third index.\n",
        "list1=['sun','star','moon','planets','constellation','satellites']\n",
        "list1[3]"
      ],
      "metadata": {
        "colab": {
          "base_uri": "https://localhost:8080/",
          "height": 35
        },
        "id": "cQScQavc0ZzS",
        "outputId": "60e222f5-ebe5-4f1e-e2d2-e9aa3c2ddfbd"
      },
      "execution_count": 46,
      "outputs": [
        {
          "output_type": "execute_result",
          "data": {
            "text/plain": [
              "'planets'"
            ],
            "application/vnd.google.colaboratory.intrinsic+json": {
              "type": "string"
            }
          },
          "metadata": {},
          "execution_count": 46
        }
      ]
    },
    {
      "cell_type": "code",
      "source": [
        "#29. Write a code to combine two dictionaries into one and print the result.\n",
        "d1={'Cappucino': 350, 'Latte': 300, 'Mocha': 350}\n",
        "d2={'Expresso': 250, 'Americano': 380 }\n",
        "d1.update(d2)\n",
        "d1"
      ],
      "metadata": {
        "colab": {
          "base_uri": "https://localhost:8080/"
        },
        "id": "PhDAoIXs1ErF",
        "outputId": "d44d3423-dd1d-4281-bdf6-6fd4c15792ae"
      },
      "execution_count": 48,
      "outputs": [
        {
          "output_type": "execute_result",
          "data": {
            "text/plain": [
              "{'Cappucino': 350,\n",
              " 'Latte': 300,\n",
              " 'Mocha': 350,\n",
              " 'Expresso': 250,\n",
              " 'Americano': 380}"
            ]
          },
          "metadata": {},
          "execution_count": 48
        }
      ]
    },
    {
      "cell_type": "code",
      "source": [
        "#30. Write a code to convert a list of strings into a set.\n",
        "lis=['apple','orange','mango','apple','peach']\n",
        "s=set(lis)\n",
        "s"
      ],
      "metadata": {
        "colab": {
          "base_uri": "https://localhost:8080/"
        },
        "id": "6k8-nYXF21tc",
        "outputId": "e177e1d9-fe9f-4f87-9074-ff23ab194c40"
      },
      "execution_count": 49,
      "outputs": [
        {
          "output_type": "execute_result",
          "data": {
            "text/plain": [
              "{'apple', 'mango', 'orange', 'peach'}"
            ]
          },
          "metadata": {},
          "execution_count": 49
        }
      ]
    }
  ]
}